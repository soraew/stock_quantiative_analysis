{
 "cells": [
  {
   "cell_type": "code",
   "execution_count": 35,
   "metadata": {},
   "outputs": [],
   "source": [
    "#!/Users/soraward/opt/miniconda3/bin/python3 \n",
    "data_root = \"../../data/\"\n",
    "# ML stuff\n",
    "import numpy as np\n",
    "from numpy.fft import *\n",
    "import torch\n",
    "from sklearn.linear_model import Lasso\n",
    "import pandas as pd\n",
    "\n",
    "\n",
    "from PIL import Image\n",
    "# plotting\n",
    "import matplotlib.pyplot as plt\n",
    "import seaborn as sns\n",
    "\n",
    "\n",
    "# basic stuff\n",
    "import datetime\n",
    "import requests\n",
    "import io\n",
    "from collections import Counter\n",
    "\n",
    "#stats stuff\n",
    "from statsmodels.graphics.tsaplots import plot_acf\n",
    "from statsmodels.graphics.tsaplots import plot_pacf\n"
   ]
  },
  {
   "cell_type": "code",
   "execution_count": 36,
   "metadata": {},
   "outputs": [],
   "source": [
    "# set index as datetime\n",
    "def date_index_nasdaq(nasdaq):\n",
    "    nasdaq_c = nasdaq.copy()\n",
    "    dates = pd.to_datetime(nasdaq_c.Date)\n",
    "    nasdaq_c.set_index(dates, inplace=True)\n",
    "    # set date as index\n",
    "    nasdaq_c.drop(\"Date\", axis=1, inplace=True)\n",
    "    nasdaq_c = nasdaq_c[\"2012-05-18\":]\n",
    "    return nasdaq_c\n",
    "\n",
    "\n",
    "# for prepare_stock\n",
    "def date_range_df(start, end, column_name = \"Time\"):\n",
    "    date_range = pd.date_range(start, end)\n",
    "    df = pd.DataFrame(date_range, columns = [column_name])\n",
    "    df.set_index(column_name, inplace=True)\n",
    "    return df\n",
    "\n",
    "# merging with date range df\n",
    "def prepare_stock(nasdaq, start, end, stock_name=\"AAPL\", drop=True):\n",
    "    nasdaq = nasdaq.loc[nasdaq[\"Name\"]==stock_name]\n",
    "    dates = date_range_df(start, end)\n",
    "    new_nasdaq = dates.merge(nasdaq, how=\"left\", left_index=True, right_index=True)\n",
    "    if drop:\n",
    "        new_nasdaq.dropna(inplace=True)\n",
    "    return new_nasdaq\n",
    "\n",
    "# create features volatility, volume, adj close\n",
    "def get_features(nasdaq):\n",
    "    #rename Adj Close\n",
    "    nasdaq.rename(columns={\"Adj Close\":\"Adj_Close\"}, inplace=True)\n",
    "    nasdaq[\"log_Volatility\"] = np.log(nasdaq.High - nasdaq.Low + 1)\n",
    "    nasdaq[\"log_Volume\"] = np.log(nasdaq.Volume + 1) \n",
    "    nasdaq[\"log_Adj_Close\"] = np.log(nasdaq[\"Adj_Close\"] + 1)\n",
    "    # nasdaq[\"log_Adj_Close_diff\"] = nasdaq[\"log_Adj_Close\"].diff()\n",
    "    nasdaq.drop(columns = [\"Low\", \"High\", \"Close\", \"Open\", \"Name\", \"Volume\"], inplace=True)\n",
    "    # nasdaq.dropna(inplace = True)\n",
    "    return nasdaq\n",
    "\n",
    "# this will return feature engineered stock dataframe\n",
    "def get_stock(nasdaq, stock_name=\"AAPL\"):\n",
    "    nasdaq_c = date_index_nasdaq(nasdaq)\n",
    "    stock = prepare_stock(nasdaq_c, nasdaq_c.index[0], nasdaq_c.index[-1], stock_name)\n",
    "    stock = get_features(stock)\n",
    "    stock.fillna(\"ffill\", inplace=True)\n",
    "    return stock\n",
    "\n",
    "# plot heatmap for top stocks\n",
    "def plot_attribute(nasdaq, using,feature=\"log_Adj_Close\"):\n",
    "    stocks = pd.DataFrame()\n",
    "    for name in using:\n",
    "        stocks[name] = get_stock(nasdaq, name)[feature]\n",
    "    stocks.dropna(inplace=True)\n",
    "    stocks.plot()\n",
    "    plt.show()\n",
    "\n",
    "# for ARIMA or some shit    \n",
    "def reindex(df):\n",
    "    return df.reindex(pd.date_range(df.index[0], df.index[-1])).fillna(method=\"ffill\")"
   ]
  },
  {
   "cell_type": "code",
   "execution_count": 37,
   "metadata": {},
   "outputs": [],
   "source": [
    "nasdaq = pd.read_csv(data_root + \"NASDAQ_100_Data_From_2010.csv\", sep=\"\\t\")\n",
    "# nasdaq.groupby(\"Name\").apply(lambda df: print(df.shape))\n",
    "\n",
    "# the line below is to get same sized data\n",
    "    # first_names = list(set([name for name in nasdaq.Name]))\n",
    "    # using = []\n",
    "    # for i in first_names:\n",
    "    #     if nasdaq.groupby(\"Name\").get_group(i).shape == (2943, 8):\n",
    "    #         using.append(i)\n",
    "    # len(using)\n",
    "features = {'Adj_Close', 'log_Volatility', 'log_Volume', 'log_Adj_Close'}\n",
    "using = ['FB', 'TSLA', 'AAPL', 'AMZN', 'NVDA', 'MSFT', 'GOOGL']\n",
    "# AAPL(Apple), MSFT(Microsoft), GOOGL(Google), AMZN(Amazon), TSLA(Tesla), FB(Facebook), NVDA(Nvidia)"
   ]
  },
  {
   "cell_type": "code",
   "execution_count": 80,
   "metadata": {},
   "outputs": [],
   "source": [
    "def get_train_df(nasdaq, using, features):\n",
    "    df_features_arr = reindex(get_stock(nasdaq, using[0])).to_numpy().T\n",
    "    for name in using[1:]:\n",
    "        adding = reindex(get_stock(nasdaq, name)).to_numpy().T\n",
    "        df_features_arr = np.concatenate([df_features_arr, adding])\n",
    "    df_features_arr = df_features_arr.T\n",
    "\n",
    "    ## df_features = pd.DataFrame(data=df_features_arr, columns=pd.MultiIndex.from_tuples(zip(col_one, col_two)))\n",
    "    \n",
    "    # making columns\n",
    "    # features must not include weekday here\n",
    "    assert(\"weekday\" not in features)\n",
    "    col_one = []\n",
    "    for element in using:\n",
    "        for i in range(len(features)):\n",
    "            col_one.append(element)\n",
    "    col_two = list(features)*len(using)\n",
    "    print(len(col_one), len(col_two))\n",
    "    # scaling \n",
    "    scaler = MinMaxScaler((-1, 1))\n",
    "    scaled = scaler.fit_transform(df_features_arr)\n",
    "    df_features = pd.DataFrame(data=scaled, columns=pd.MultiIndex.from_tuples(zip(col_one, col_two)))\n",
    "\n",
    "    df_features.index = pd.date_range(\"2012-05-18\", \"2021-09-10\")\n",
    "\n",
    "    day_of_week = np.array(list(map(lambda date: date.weekday(), df_features.index)))\n",
    "    day_of_week = day_of_week.reshape(-1, 1)\n",
    "    day_of_week = pd.Series(data=scaler.fit_transform(day_of_week).reshape(-1,), index = df_features.index)\n",
    "    df_features[\"weekday\"] = day_of_week\n",
    "\n",
    "    return df_features\n",
    "\n",
    "from sklearn.preprocessing import MinMaxScaler\n",
    "\n",
    "# for feeding into network\n",
    "def get_train_arr(nasdaq, using, features):\n",
    "    df_features_arr = []\n",
    "    for name in using:\n",
    "        arr = reindex(get_stock(nasdaq, name)).to_numpy()\n",
    "        # scaling for each column, for each stock_df in nasdaq\n",
    "        scaler = MinMaxScaler(feature_range=(-1, 1))\n",
    "        arr_scaled = scaler.fit_transform(arr)    \n",
    "\n",
    "        # adding day of week\n",
    "        day_of_week = np.array(list(map(lambda date: date.weekday(), pd.date_range(\"2012-05-18\", \"2021-09-10\"))))\n",
    "        day_of_week = day_of_week.reshape(-1, 1)\n",
    "        day_of_week = scaler.fit_transform(day_of_week)\n",
    "      \n",
    "        arr_scaled = np.concatenate([arr_scaled, day_of_week], axis=1)\n",
    "\n",
    "        df_features_arr.append(arr_scaled)\n",
    "\n",
    "\n",
    "    df_features_arr = np.array(df_features_arr)\n",
    "    features.add(\"weekday\")\n",
    "    df_features_arr = df_features_arr.reshape(-1, len(features), 7)\n",
    "\n",
    "    return df_features_arr"
   ]
  },
  {
   "cell_type": "code",
   "execution_count": 84,
   "metadata": {},
   "outputs": [
    {
     "data": {
      "text/plain": "(3403, 5, 7)"
     },
     "execution_count": 84,
     "metadata": {},
     "output_type": "execute_result"
    }
   ],
   "source": [
    "get_train_arr(nasdaq, using, features).shape"
   ]
  },
  {
   "cell_type": "code",
   "execution_count": 82,
   "metadata": {},
   "outputs": [
    {
     "name": "stdout",
     "output_type": "stream",
     "text": [
      "28 28\n"
     ]
    },
    {
     "data": {
      "text/html": "<div>\n<style scoped>\n    .dataframe tbody tr th:only-of-type {\n        vertical-align: middle;\n    }\n\n    .dataframe tbody tr th {\n        vertical-align: top;\n    }\n\n    .dataframe thead tr th {\n        text-align: left;\n    }\n</style>\n<table border=\"1\" class=\"dataframe\">\n  <thead>\n    <tr>\n      <th></th>\n      <th colspan=\"4\" halign=\"left\">FB</th>\n      <th colspan=\"4\" halign=\"left\">TSLA</th>\n      <th colspan=\"2\" halign=\"left\">AAPL</th>\n      <th>...</th>\n      <th>NVDA</th>\n      <th colspan=\"4\" halign=\"left\">MSFT</th>\n      <th colspan=\"4\" halign=\"left\">GOOGL</th>\n      <th>weekday</th>\n    </tr>\n    <tr>\n      <th></th>\n      <th>Adj_Close</th>\n      <th>log_Volume</th>\n      <th>log_Adj_Close</th>\n      <th>log_Volatility</th>\n      <th>Adj_Close</th>\n      <th>log_Volume</th>\n      <th>log_Adj_Close</th>\n      <th>log_Volatility</th>\n      <th>Adj_Close</th>\n      <th>log_Volume</th>\n      <th>...</th>\n      <th>log_Volatility</th>\n      <th>Adj_Close</th>\n      <th>log_Volume</th>\n      <th>log_Adj_Close</th>\n      <th>log_Volatility</th>\n      <th>Adj_Close</th>\n      <th>log_Volume</th>\n      <th>log_Adj_Close</th>\n      <th>log_Volatility</th>\n      <th></th>\n    </tr>\n  </thead>\n  <tbody>\n    <tr>\n      <th>2012-05-18</th>\n      <td>-0.887502</td>\n      <td>0.271078</td>\n      <td>1.000000</td>\n      <td>-0.510124</td>\n      <td>-0.999335</td>\n      <td>-0.904507</td>\n      <td>-0.426573</td>\n      <td>-0.981489</td>\n      <td>-0.943105</td>\n      <td>-0.634701</td>\n      <td>...</td>\n      <td>-0.979027</td>\n      <td>-0.985425</td>\n      <td>-0.760133</td>\n      <td>0.153248</td>\n      <td>-0.933668</td>\n      <td>-0.984229</td>\n      <td>0.026879</td>\n      <td>0.631053</td>\n      <td>-0.939133</td>\n      <td>0.333333</td>\n    </tr>\n    <tr>\n      <th>2012-05-19</th>\n      <td>-0.887502</td>\n      <td>0.271078</td>\n      <td>1.000000</td>\n      <td>-0.510124</td>\n      <td>-0.999335</td>\n      <td>-0.904507</td>\n      <td>-0.426573</td>\n      <td>-0.981489</td>\n      <td>-0.943105</td>\n      <td>-0.634701</td>\n      <td>...</td>\n      <td>-0.979027</td>\n      <td>-0.985425</td>\n      <td>-0.760133</td>\n      <td>0.153248</td>\n      <td>-0.933668</td>\n      <td>-0.984229</td>\n      <td>0.026879</td>\n      <td>0.631053</td>\n      <td>-0.939133</td>\n      <td>0.666667</td>\n    </tr>\n    <tr>\n      <th>2012-05-20</th>\n      <td>-0.887502</td>\n      <td>0.271078</td>\n      <td>1.000000</td>\n      <td>-0.510124</td>\n      <td>-0.999335</td>\n      <td>-0.904507</td>\n      <td>-0.426573</td>\n      <td>-0.981489</td>\n      <td>-0.943105</td>\n      <td>-0.634701</td>\n      <td>...</td>\n      <td>-0.979027</td>\n      <td>-0.985425</td>\n      <td>-0.760133</td>\n      <td>0.153248</td>\n      <td>-0.933668</td>\n      <td>-0.984229</td>\n      <td>0.026879</td>\n      <td>0.631053</td>\n      <td>-0.939133</td>\n      <td>1.000000</td>\n    </tr>\n    <tr>\n      <th>2012-05-21</th>\n      <td>-0.910550</td>\n      <td>-0.100568</td>\n      <td>0.463670</td>\n      <td>-0.585156</td>\n      <td>-0.998783</td>\n      <td>-0.871515</td>\n      <td>-0.462524</td>\n      <td>-0.966767</td>\n      <td>-0.929994</td>\n      <td>-0.539763</td>\n      <td>...</td>\n      <td>-0.972909</td>\n      <td>-0.982635</td>\n      <td>-0.724027</td>\n      <td>-0.058080</td>\n      <td>-0.921593</td>\n      <td>-0.979000</td>\n      <td>-0.392194</td>\n      <td>0.297242</td>\n      <td>-0.919871</td>\n      <td>-1.000000</td>\n    </tr>\n    <tr>\n      <th>2012-05-22</th>\n      <td>-0.927178</td>\n      <td>-0.268563</td>\n      <td>0.244101</td>\n      <td>-0.645101</td>\n      <td>-0.997858</td>\n      <td>-0.924417</td>\n      <td>-0.276817</td>\n      <td>-0.943213</td>\n      <td>-0.931823</td>\n      <td>-0.633574</td>\n      <td>...</td>\n      <td>-0.977271</td>\n      <td>-0.982577</td>\n      <td>-0.876786</td>\n      <td>-0.047643</td>\n      <td>-0.921344</td>\n      <td>-0.984076</td>\n      <td>-0.329549</td>\n      <td>0.293385</td>\n      <td>-0.938565</td>\n      <td>-0.666667</td>\n    </tr>\n    <tr>\n      <th>...</th>\n      <td>...</td>\n      <td>...</td>\n      <td>...</td>\n      <td>...</td>\n      <td>...</td>\n      <td>...</td>\n      <td>...</td>\n      <td>...</td>\n      <td>...</td>\n      <td>...</td>\n      <td>...</td>\n      <td>...</td>\n      <td>...</td>\n      <td>...</td>\n      <td>...</td>\n      <td>...</td>\n      <td>...</td>\n      <td>...</td>\n      <td>...</td>\n      <td>...</td>\n      <td>...</td>\n    </tr>\n    <tr>\n      <th>2021-09-06</th>\n      <td>0.967513</td>\n      <td>-0.045294</td>\n      <td>-0.895508</td>\n      <td>0.989683</td>\n      <td>0.659357</td>\n      <td>0.029193</td>\n      <td>-0.177142</td>\n      <td>0.925245</td>\n      <td>0.966929</td>\n      <td>-0.342935</td>\n      <td>...</td>\n      <td>1.000000</td>\n      <td>0.975165</td>\n      <td>-0.279450</td>\n      <td>-0.609046</td>\n      <td>0.991072</td>\n      <td>0.977504</td>\n      <td>0.385508</td>\n      <td>-0.619427</td>\n      <td>0.991259</td>\n      <td>-1.000000</td>\n    </tr>\n    <tr>\n      <th>2021-09-07</th>\n      <td>1.000000</td>\n      <td>0.478093</td>\n      <td>-0.736901</td>\n      <td>1.000000</td>\n      <td>0.703441</td>\n      <td>0.344718</td>\n      <td>-0.069687</td>\n      <td>0.935736</td>\n      <td>1.000000</td>\n      <td>-0.008963</td>\n      <td>...</td>\n      <td>0.996184</td>\n      <td>0.968372</td>\n      <td>-0.176434</td>\n      <td>-0.522061</td>\n      <td>0.988612</td>\n      <td>0.985750</td>\n      <td>0.056621</td>\n      <td>-0.612534</td>\n      <td>0.994473</td>\n      <td>-0.666667</td>\n    </tr>\n    <tr>\n      <th>2021-09-08</th>\n      <td>0.974702</td>\n      <td>0.187063</td>\n      <td>-0.725966</td>\n      <td>0.991980</td>\n      <td>0.705606</td>\n      <td>0.397107</td>\n      <td>-0.094934</td>\n      <td>0.936244</td>\n      <td>0.978137</td>\n      <td>0.029051</td>\n      <td>...</td>\n      <td>0.989297</td>\n      <td>0.968584</td>\n      <td>-0.134340</td>\n      <td>-0.597614</td>\n      <td>0.988689</td>\n      <td>0.976765</td>\n      <td>0.264463</td>\n      <td>-0.659099</td>\n      <td>0.990970</td>\n      <td>-0.333333</td>\n    </tr>\n    <tr>\n      <th>2021-09-09</th>\n      <td>0.977061</td>\n      <td>-0.162289</td>\n      <td>-0.811581</td>\n      <td>0.992732</td>\n      <td>0.707861</td>\n      <td>0.055987</td>\n      <td>-0.208480</td>\n      <td>0.936772</td>\n      <td>0.963747</td>\n      <td>-0.169713</td>\n      <td>...</td>\n      <td>0.985806</td>\n      <td>0.947641</td>\n      <td>0.132019</td>\n      <td>-0.437561</td>\n      <td>0.981056</td>\n      <td>0.974479</td>\n      <td>0.151836</td>\n      <td>-0.749873</td>\n      <td>0.990076</td>\n      <td>0.000000</td>\n    </tr>\n    <tr>\n      <th>2021-09-10</th>\n      <td>0.980848</td>\n      <td>0.131453</td>\n      <td>-0.707768</td>\n      <td>0.993937</td>\n      <td>0.665509</td>\n      <td>0.470294</td>\n      <td>-0.180555</td>\n      <td>0.926725</td>\n      <td>0.893177</td>\n      <td>0.544877</td>\n      <td>...</td>\n      <td>0.992273</td>\n      <td>0.936744</td>\n      <td>0.062525</td>\n      <td>-0.446425</td>\n      <td>0.977055</td>\n      <td>0.933862</td>\n      <td>0.830236</td>\n      <td>-0.308858</td>\n      <td>0.974041</td>\n      <td>0.333333</td>\n    </tr>\n  </tbody>\n</table>\n<p>3403 rows × 29 columns</p>\n</div>",
      "text/plain": "                  FB                                              TSLA  \\\n           Adj_Close log_Volume log_Adj_Close log_Volatility Adj_Close   \n2012-05-18 -0.887502   0.271078      1.000000      -0.510124 -0.999335   \n2012-05-19 -0.887502   0.271078      1.000000      -0.510124 -0.999335   \n2012-05-20 -0.887502   0.271078      1.000000      -0.510124 -0.999335   \n2012-05-21 -0.910550  -0.100568      0.463670      -0.585156 -0.998783   \n2012-05-22 -0.927178  -0.268563      0.244101      -0.645101 -0.997858   \n...              ...        ...           ...            ...       ...   \n2021-09-06  0.967513  -0.045294     -0.895508       0.989683  0.659357   \n2021-09-07  1.000000   0.478093     -0.736901       1.000000  0.703441   \n2021-09-08  0.974702   0.187063     -0.725966       0.991980  0.705606   \n2021-09-09  0.977061  -0.162289     -0.811581       0.992732  0.707861   \n2021-09-10  0.980848   0.131453     -0.707768       0.993937  0.665509   \n\n                                                        AAPL             ...  \\\n           log_Volume log_Adj_Close log_Volatility Adj_Close log_Volume  ...   \n2012-05-18  -0.904507     -0.426573      -0.981489 -0.943105  -0.634701  ...   \n2012-05-19  -0.904507     -0.426573      -0.981489 -0.943105  -0.634701  ...   \n2012-05-20  -0.904507     -0.426573      -0.981489 -0.943105  -0.634701  ...   \n2012-05-21  -0.871515     -0.462524      -0.966767 -0.929994  -0.539763  ...   \n2012-05-22  -0.924417     -0.276817      -0.943213 -0.931823  -0.633574  ...   \n...               ...           ...            ...       ...        ...  ...   \n2021-09-06   0.029193     -0.177142       0.925245  0.966929  -0.342935  ...   \n2021-09-07   0.344718     -0.069687       0.935736  1.000000  -0.008963  ...   \n2021-09-08   0.397107     -0.094934       0.936244  0.978137   0.029051  ...   \n2021-09-09   0.055987     -0.208480       0.936772  0.963747  -0.169713  ...   \n2021-09-10   0.470294     -0.180555       0.926725  0.893177   0.544877  ...   \n\n                     NVDA      MSFT                                          \\\n           log_Volatility Adj_Close log_Volume log_Adj_Close log_Volatility   \n2012-05-18      -0.979027 -0.985425  -0.760133      0.153248      -0.933668   \n2012-05-19      -0.979027 -0.985425  -0.760133      0.153248      -0.933668   \n2012-05-20      -0.979027 -0.985425  -0.760133      0.153248      -0.933668   \n2012-05-21      -0.972909 -0.982635  -0.724027     -0.058080      -0.921593   \n2012-05-22      -0.977271 -0.982577  -0.876786     -0.047643      -0.921344   \n...                   ...       ...        ...           ...            ...   \n2021-09-06       1.000000  0.975165  -0.279450     -0.609046       0.991072   \n2021-09-07       0.996184  0.968372  -0.176434     -0.522061       0.988612   \n2021-09-08       0.989297  0.968584  -0.134340     -0.597614       0.988689   \n2021-09-09       0.985806  0.947641   0.132019     -0.437561       0.981056   \n2021-09-10       0.992273  0.936744   0.062525     -0.446425       0.977055   \n\n               GOOGL                                           weekday  \n           Adj_Close log_Volume log_Adj_Close log_Volatility            \n2012-05-18 -0.984229   0.026879      0.631053      -0.939133  0.333333  \n2012-05-19 -0.984229   0.026879      0.631053      -0.939133  0.666667  \n2012-05-20 -0.984229   0.026879      0.631053      -0.939133  1.000000  \n2012-05-21 -0.979000  -0.392194      0.297242      -0.919871 -1.000000  \n2012-05-22 -0.984076  -0.329549      0.293385      -0.938565 -0.666667  \n...              ...        ...           ...            ...       ...  \n2021-09-06  0.977504   0.385508     -0.619427       0.991259 -1.000000  \n2021-09-07  0.985750   0.056621     -0.612534       0.994473 -0.666667  \n2021-09-08  0.976765   0.264463     -0.659099       0.990970 -0.333333  \n2021-09-09  0.974479   0.151836     -0.749873       0.990076  0.000000  \n2021-09-10  0.933862   0.830236     -0.308858       0.974041  0.333333  \n\n[3403 rows x 29 columns]"
     },
     "execution_count": 82,
     "metadata": {},
     "output_type": "execute_result"
    }
   ],
   "source": [
    "get_train_df(nasdaq, using, features={'Adj_Close', 'log_Volatility', 'log_Volume', 'log_Adj_Close'})"
   ]
  },
  {
   "cell_type": "code",
   "execution_count": 46,
   "metadata": {},
   "outputs": [
    {
     "data": {
      "text/plain": "array([-0.88750171,  0.27107764,  1.        , -0.5101242 ,  0.33333333,\n       -0.88750171,  0.27107764])"
     },
     "execution_count": 46,
     "metadata": {},
     "output_type": "execute_result"
    }
   ],
   "source": [
    "get_train_arr(nasdaq, using, features)[0][0]"
   ]
  },
  {
   "cell_type": "code",
   "execution_count": 57,
   "metadata": {},
   "outputs": [
    {
     "data": {
      "text/plain": "{'Adj_Close', 'log_Adj_Close', 'log_Volatility', 'log_Volume', 'weekday'}"
     },
     "execution_count": 57,
     "metadata": {},
     "output_type": "execute_result"
    }
   ],
   "source": [
    "features"
   ]
  },
  {
   "cell_type": "code",
   "execution_count": null,
   "metadata": {},
   "outputs": [],
   "source": []
  },
  {
   "cell_type": "code",
   "execution_count": null,
   "metadata": {},
   "outputs": [],
   "source": []
  },
  {
   "cell_type": "code",
   "execution_count": null,
   "metadata": {},
   "outputs": [],
   "source": []
  },
  {
   "cell_type": "code",
   "execution_count": null,
   "metadata": {},
   "outputs": [],
   "source": []
  },
  {
   "cell_type": "code",
   "execution_count": null,
   "metadata": {},
   "outputs": [],
   "source": []
  },
  {
   "cell_type": "code",
   "execution_count": null,
   "metadata": {},
   "outputs": [],
   "source": []
  },
  {
   "cell_type": "code",
   "execution_count": null,
   "metadata": {},
   "outputs": [],
   "source": []
  }
 ],
 "metadata": {
  "kernelspec": {
   "display_name": "Python 3.8.12 64-bit ('pyflux': conda)",
   "name": "python3812jvsc74a57bd0b8bf3bbb95d33652ea8a09e83516ae388afde8f9530fb9552010d87506ab4938"
  },
  "language_info": {
   "codemirror_mode": {
    "name": "ipython",
    "version": 3
   },
   "file_extension": ".py",
   "mimetype": "text/x-python",
   "name": "python",
   "nbconvert_exporter": "python",
   "pygments_lexer": "ipython3",
   "version": "3.8.12"
  },
  "metadata": {
   "interpreter": {
    "hash": "b8bf3bbb95d33652ea8a09e83516ae388afde8f9530fb9552010d87506ab4938"
   }
  },
  "orig_nbformat": 2
 },
 "nbformat": 4,
 "nbformat_minor": 2
}